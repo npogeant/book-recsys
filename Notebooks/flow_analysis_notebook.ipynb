{
 "cells": [
  {
   "cell_type": "code",
   "execution_count": 13,
   "metadata": {},
   "outputs": [
    {
     "name": "stdout",
     "output_type": "stream",
     "text": [
      "Data Artifact: <MetaflowData: trainset, model_timestamp, model, name, data, testset, predictions, scores>\n",
      "Run ID: 1693686127328896\n",
      "Status: Successful\n"
     ]
    }
   ],
   "source": [
    "from metaflow import Metaflow, Flow\n",
    "\n",
    "# Initialize Metaflow\n",
    "metaflow = Metaflow()\n",
    "\n",
    "# Replace 'YourFlowName' with the name of your Metaflow flow\n",
    "flow_name = 'BookRecSysFlow'\n",
    "\n",
    "# Load the latest run of your flow\n",
    "latest_run = Flow(flow_name).latest_run\n",
    "\n",
    "# Access and explore the results of the latest run\n",
    "if latest_run:\n",
    "    # Access specific data artifacts (outputs) from the latest run\n",
    "    # Replace 'data_artifact_name' with the name of the data artifact you want to access\n",
    "    data_artifact = latest_run.data\n",
    "    print(f\"Data Artifact: {data_artifact}\")\n",
    "\n",
    "    # Access other run information\n",
    "    run_id = latest_run.id\n",
    "    status = latest_run.successful\n",
    "\n",
    "    print(f\"Run ID: {run_id}\")\n",
    "    print(f\"Status: {'Successful' if status else 'Failed'}\")\n",
    "\n",
    "    # Access and explore other attributes and results as needed\n",
    "else:\n",
    "    print(\"No runs found for the specified flow.\")\n"
   ]
  },
  {
   "cell_type": "code",
   "execution_count": 14,
   "metadata": {},
   "outputs": [
    {
     "data": {
      "text/plain": [
       "{'model_name': ['baseline', 'knn', 'nmf', 'svd'],\n",
       " 'model': [<surprise.prediction_algorithms.baseline_only.BaselineOnly at 0x10d6694f0>,\n",
       "  <surprise.prediction_algorithms.knns.KNNBasic at 0x10d669400>,\n",
       "  <surprise.prediction_algorithms.matrix_factorization.NMF at 0x10d669970>,\n",
       "  <surprise.prediction_algorithms.matrix_factorization.SVD at 0x10d669f40>],\n",
       " 'params': [],\n",
       " 'mean accuracy': [3.3907735845431204,\n",
       "  3.8569701904536964,\n",
       "  3.662952788706448,\n",
       "  3.411914431499748]}"
      ]
     },
     "execution_count": 14,
     "metadata": {},
     "output_type": "execute_result"
    }
   ],
   "source": [
    "latest_run.data.scores"
   ]
  },
  {
   "cell_type": "code",
   "execution_count": null,
   "metadata": {},
   "outputs": [],
   "source": []
  }
 ],
 "metadata": {
  "kernelspec": {
   "display_name": "book-recsys",
   "language": "python",
   "name": "python3"
  },
  "language_info": {
   "codemirror_mode": {
    "name": "ipython",
    "version": 3
   },
   "file_extension": ".py",
   "mimetype": "text/x-python",
   "name": "python",
   "nbconvert_exporter": "python",
   "pygments_lexer": "ipython3",
   "version": "3.9.10"
  },
  "orig_nbformat": 4
 },
 "nbformat": 4,
 "nbformat_minor": 2
}
